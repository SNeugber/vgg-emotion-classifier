{
 "cells": [
  {
   "cell_type": "markdown",
   "metadata": {},
   "source": [
    "## Load labels"
   ]
  },
  {
   "cell_type": "code",
   "execution_count": 1,
   "metadata": {},
   "outputs": [
    {
     "data": {
      "text/plain": [
       "WindowsPath('../data')"
      ]
     },
     "execution_count": 1,
     "metadata": {},
     "output_type": "execute_result"
    }
   ],
   "source": [
    "from pathlib import Path\n",
    "\n",
    "data_path = Path(\"../data\")\n",
    "data_path"
   ]
  },
  {
   "cell_type": "markdown",
   "metadata": {},
   "source": [
    "### List all WAV files"
   ]
  },
  {
   "cell_type": "code",
   "execution_count": 2,
   "metadata": {},
   "outputs": [
    {
     "data": {
      "text/plain": [
       "[WindowsPath('../data/03-01-01-01-01-01-01.wav'),\n",
       " WindowsPath('../data/03-01-01-01-01-01-02.wav'),\n",
       " WindowsPath('../data/03-01-01-01-01-01-03.wav'),\n",
       " WindowsPath('../data/03-01-01-01-01-01-04.wav'),\n",
       " WindowsPath('../data/03-01-01-01-01-01-05.wav')]"
      ]
     },
     "execution_count": 2,
     "metadata": {},
     "output_type": "execute_result"
    }
   ],
   "source": [
    "wav_files = data_path.glob(\"*.wav\")\n",
    "wav_files = list(wav_files)\n",
    "wav_files[:5]"
   ]
  },
  {
   "cell_type": "markdown",
   "metadata": {},
   "source": [
    "### Map file names to their classes.\n",
    "\n",
    "Each emotion is labelled as 01 - 08, so we convert that to labels 0 - 7"
   ]
  },
  {
   "cell_type": "code",
   "execution_count": 3,
   "metadata": {},
   "outputs": [
    {
     "data": {
      "text/plain": [
       "[('03-01-01-01-01-01-01.wav', {'class': 0, 'speaker': 0}),\n",
       " ('03-01-01-01-01-01-02.wav', {'class': 0, 'speaker': 1}),\n",
       " ('03-01-01-01-01-01-03.wav', {'class': 0, 'speaker': 2}),\n",
       " ('03-01-01-01-01-01-04.wav', {'class': 0, 'speaker': 3}),\n",
       " ('03-01-01-01-01-01-05.wav', {'class': 0, 'speaker': 4})]"
      ]
     },
     "execution_count": 3,
     "metadata": {},
     "output_type": "execute_result"
    }
   ],
   "source": [
    "def class_from_file_name(fname):\n",
    "    return int(fname.split('-')[2]) - 1\n",
    "\n",
    "def speaker_from_file_name(fname):\n",
    "    return int(fname.split('-')[6].split('.')[0]) - 1\n",
    "\n",
    "labels = {\n",
    "    f.name: {\n",
    "        \"class\": class_from_file_name(f.name),\n",
    "        \"speaker\": speaker_from_file_name(f.name)\n",
    "    }\n",
    "    for f in wav_files\n",
    "}\n",
    "[(k, v) for k, v in labels.items()][:5]"
   ]
  },
  {
   "cell_type": "markdown",
   "metadata": {},
   "source": [
    "### Extract number of classes"
   ]
  },
  {
   "cell_type": "code",
   "execution_count": 4,
   "metadata": {},
   "outputs": [
    {
     "data": {
      "text/plain": [
       "8"
      ]
     },
     "execution_count": 4,
     "metadata": {},
     "output_type": "execute_result"
    }
   ],
   "source": [
    "CLASSES = list(set([v[\"class\"] for v in labels.values()]))\n",
    "NUM_CLASSES = len(CLASSES)\n",
    "NUM_CLASSES"
   ]
  },
  {
   "cell_type": "markdown",
   "metadata": {},
   "source": [
    "## Load Data"
   ]
  },
  {
   "cell_type": "markdown",
   "metadata": {},
   "source": [
    "### Fix PYTHONPATH\n",
    "\n",
    "Add the path to the vgg-related files to the pythonpath so that we can import the modules"
   ]
  },
  {
   "cell_type": "code",
   "execution_count": 5,
   "metadata": {},
   "outputs": [
    {
     "data": {
      "text/plain": [
       "WindowsPath('D:/Work/playground/vgg-emotion-classifier/vgg')"
      ]
     },
     "execution_count": 5,
     "metadata": {},
     "output_type": "execute_result"
    }
   ],
   "source": [
    "import os\n",
    "import sys\n",
    "nb_dir = Path(os.getcwd())\n",
    "vgg_dir = nb_dir.parent / 'vgg'\n",
    "vgg_dir"
   ]
  },
  {
   "cell_type": "code",
   "execution_count": 6,
   "metadata": {},
   "outputs": [
    {
     "data": {
      "text/plain": [
       "['',\n",
       " 'C:\\\\Users\\\\Sam\\\\Anaconda3\\\\envs\\\\vggec\\\\python36.zip',\n",
       " 'C:\\\\Users\\\\Sam\\\\Anaconda3\\\\envs\\\\vggec\\\\DLLs',\n",
       " 'C:\\\\Users\\\\Sam\\\\Anaconda3\\\\envs\\\\vggec\\\\lib',\n",
       " 'C:\\\\Users\\\\Sam\\\\Anaconda3\\\\envs\\\\vggec',\n",
       " 'C:\\\\Users\\\\Sam\\\\Anaconda3\\\\envs\\\\vggec\\\\lib\\\\site-packages',\n",
       " 'C:\\\\Users\\\\Sam\\\\Anaconda3\\\\envs\\\\vggec\\\\lib\\\\site-packages\\\\IPython\\\\extensions',\n",
       " 'C:\\\\Users\\\\Sam\\\\.ipython',\n",
       " 'D:\\\\Work\\\\playground\\\\vgg-emotion-classifier\\\\vgg']"
      ]
     },
     "execution_count": 6,
     "metadata": {},
     "output_type": "execute_result"
    }
   ],
   "source": [
    "if str(vgg_dir) not in sys.path:\n",
    "    sys.path.append(str(vgg_dir))\n",
    "sys.path"
   ]
  },
  {
   "cell_type": "markdown",
   "metadata": {},
   "source": [
    "### Read WAV files\n",
    "\n",
    "Read in the wav files and convert them into the correct shape for the VGGish model (this is thankfully taken care of already by the example code provided)"
   ]
  },
  {
   "cell_type": "code",
   "execution_count": 7,
   "metadata": {},
   "outputs": [],
   "source": [
    "from vggish_input import wavfile_to_examples "
   ]
  },
  {
   "cell_type": "code",
   "execution_count": 8,
   "metadata": {},
   "outputs": [],
   "source": [
    "data = {\n",
    "    f.name: wavfile_to_examples(str(f))\n",
    "    for f in wav_files\n",
    "}"
   ]
  },
  {
   "cell_type": "code",
   "execution_count": 9,
   "metadata": {},
   "outputs": [
    {
     "data": {
      "text/plain": [
       "(3, 96, 64)"
      ]
     },
     "execution_count": 9,
     "metadata": {},
     "output_type": "execute_result"
    }
   ],
   "source": [
    "data['03-01-01-01-01-01-01.wav'].shape"
   ]
  },
  {
   "cell_type": "markdown",
   "metadata": {},
   "source": [
    "### Split dataset\n",
    "\n",
    "Split into\n",
    "\n",
    "* train: 70%\n",
    "* val: 15%\n",
    "* test: 15%\n",
    "\n",
    "Need to take into account that there are multiple files per speaker saying the same thing with slightly different intonation, so we should probably split by speaker."
   ]
  },
  {
   "cell_type": "code",
   "execution_count": 10,
   "metadata": {},
   "outputs": [
    {
     "name": "stdout",
     "output_type": "stream",
     "text": [
      "Training size: 1140\n",
      "Validation size: 120\n",
      "Test size: 180\n"
     ]
    }
   ],
   "source": [
    "from random import shuffle\n",
    "import numpy as np\n",
    "\n",
    "speakers = list(set([v[\"speaker\"] for k, v in labels.items()]))\n",
    "\n",
    "seed = 987234871\n",
    "shuffle(speakers)\n",
    "\n",
    "train_speakers_index = int(0.8 * len(speakers))\n",
    "val_speakers_index = int(0.9 * len(speakers))\n",
    "train_speakers = speakers[:train_speakers_index]\n",
    "val_speakers = speakers[train_speakers_index:val_speakers_index]\n",
    "test_speakers = speakers[val_speakers_index:]\n",
    "\n",
    "x_train, y_train = zip(*[(data[key], value[\"class\"]) for key, value in labels.items() if value[\"speaker\"] in train_speakers])\n",
    "x_val, y_val = zip(*[(data[key], value[\"class\"]) for key, value in labels.items() if value[\"speaker\"] in val_speakers])\n",
    "x_test, y_test = zip(*[(data[key], value[\"class\"]) for key, value in labels.items() if value[\"speaker\"] in test_speakers])\n",
    "\n",
    "x_train = np.array(x_train)\n",
    "x_val = np.array(x_val)\n",
    "x_test = np.array(x_test)\n",
    "\n",
    "y_train = np.array(y_train)\n",
    "y_val = np.array(y_val)\n",
    "y_test = np.array(y_test)\n",
    "\n",
    "print(f\"Training size: {len(x_train)}\")\n",
    "print(f\"Validation size: {len(x_val)}\")\n",
    "print(f\"Test size: {len(x_test)}\")\n"
   ]
  },
  {
   "cell_type": "markdown",
   "metadata": {},
   "source": [
    "### Convert labels to one-hot vectors\n",
    "\n",
    "For multi-class classification using categorical crossentropy we want the labels in one-hot encoded form.\n",
    "\n",
    "E.g. label `1` becomes `[0, 1, 0, 0 ,0 ,0, 0, 0]`"
   ]
  },
  {
   "cell_type": "code",
   "execution_count": 11,
   "metadata": {},
   "outputs": [],
   "source": [
    "import numpy as np\n",
    "\n",
    "def to_one_hot(y, num_classes):\n",
    "    y_one_hot = np.zeros(((y.size, num_classes)))\n",
    "    y_one_hot[np.arange(y.size), y] = 1\n",
    "    return y_one_hot\n",
    "\n",
    "y_train = to_one_hot(y_train, NUM_CLASSES)\n",
    "y_val = to_one_hot(y_val, NUM_CLASSES)\n",
    "y_test = to_one_hot(y_test, NUM_CLASSES)"
   ]
  },
  {
   "cell_type": "code",
   "execution_count": 12,
   "metadata": {},
   "outputs": [
    {
     "data": {
      "text/plain": [
       "array([[1., 0., 0., 0., 0., 0., 0., 0.],\n",
       "       [1., 0., 0., 0., 0., 0., 0., 0.],\n",
       "       [1., 0., 0., 0., 0., 0., 0., 0.],\n",
       "       [1., 0., 0., 0., 0., 0., 0., 0.],\n",
       "       [1., 0., 0., 0., 0., 0., 0., 0.]])"
      ]
     },
     "execution_count": 12,
     "metadata": {},
     "output_type": "execute_result"
    }
   ],
   "source": [
    "y_train[:5]"
   ]
  },
  {
   "cell_type": "markdown",
   "metadata": {},
   "source": [
    "### Compute balanced weights\n",
    "\n",
    "The number of instances for each class isn't balanced, so we need to create weightings for each class to even things out during training"
   ]
  },
  {
   "cell_type": "code",
   "execution_count": 13,
   "metadata": {},
   "outputs": [],
   "source": [
    "from sklearn.utils import class_weight\n",
    "\n",
    "class_weights = class_weight.compute_class_weight('balanced',\n",
    "                                                  CLASSES,\n",
    "                                                  list([v[\"class\"] for v in labels.values()]))\n",
    "# class_weights = {c: w for c, w in enumerate(scikit_class_weights)}\n",
    "# class_weights\n",
    "# scikit_class_weights"
   ]
  },
  {
   "cell_type": "markdown",
   "metadata": {},
   "source": [
    "Create function to convert class weights to sample weights"
   ]
  },
  {
   "cell_type": "code",
   "execution_count": 14,
   "metadata": {},
   "outputs": [],
   "source": [
    "def sample_weights_from_class_weights(class_weights, labels):\n",
    "    return np.array([class_weights[np.argmax(label)] for label in labels])"
   ]
  },
  {
   "cell_type": "markdown",
   "metadata": {},
   "source": [
    "### Create function to get batches from data"
   ]
  },
  {
   "cell_type": "code",
   "execution_count": 15,
   "metadata": {},
   "outputs": [],
   "source": [
    "from random import shuffle\n",
    "def get_shuffled_batches(x, y):\n",
    "    assert len(x) == len(y)\n",
    "    indexes = list(range(len(x)))\n",
    "    shuffle(indexes)\n",
    "    for x, y in zip(x[indexes], y[indexes]):\n",
    "        x_batch = np.reshape(x, (1, *x.shape, 1))\n",
    "        y_batch = np.reshape(y, (1, *y.shape))\n",
    "        yield x_batch, y_batch"
   ]
  },
  {
   "cell_type": "markdown",
   "metadata": {},
   "source": [
    "## Convert pretrained TF weights to Keras model checkpoint"
   ]
  },
  {
   "cell_type": "markdown",
   "metadata": {},
   "source": [
    "Don't want to deal with the TF library, Keras is much easier to use imo. That means we first need to turn the TF checkpoint into a Keras checkpoint.\n",
    "\n",
    "It should theoretically be possible to load the TF checkpoint as is, but this way I know it'll work."
   ]
  },
  {
   "cell_type": "markdown",
   "metadata": {},
   "source": [
    "### Define exact VGGish model in Keras\n",
    "\n",
    "Code taken from https://github.com/SNeugber/vggish2Keras, which is a clone of https://github.com/antoinemrcr/vggish2Keras"
   ]
  },
  {
   "cell_type": "code",
   "execution_count": 16,
   "metadata": {},
   "outputs": [
    {
     "name": "stderr",
     "output_type": "stream",
     "text": [
      "Using TensorFlow backend.\n"
     ]
    }
   ],
   "source": [
    "from keras.layers import Input, Dense, Conv2D, MaxPooling2D, Flatten\n",
    "from keras.models import Model\n",
    "import vggish_params\n",
    "\n",
    "def get_vggish_keras():\n",
    "    input_shape = (vggish_params.NUM_FRAMES,vggish_params.NUM_BANDS,1)\n",
    "\n",
    "    img_input = Input( shape=input_shape)\n",
    "    # Block 1\n",
    "    x = Conv2D(64, (3, 3), activation='relu', padding='same', name='conv1')(img_input)\n",
    "    x = MaxPooling2D((2, 2), strides=(2, 2), name='pool1')(x)\n",
    "\n",
    "    # Block 2\n",
    "    x = Conv2D(128, (3, 3), activation='relu', padding='same', name='conv2')(x)\n",
    "    x = MaxPooling2D((2, 2), strides=(2, 2), name='pool2')(x)\n",
    "\n",
    "    # Block 3\n",
    "    x = Conv2D(256, (3, 3), activation='relu', padding='same', name='conv3_1')(x)\n",
    "    x = Conv2D(256, (3, 3), activation='relu', padding='same', name='conv3_2')(x)\n",
    "    x = MaxPooling2D((2, 2), strides=(2, 2), name='pool3')(x)\n",
    "\n",
    "    # Block 4\n",
    "    x = Conv2D(512, (3, 3), activation='relu', padding='same', name='conv4_1')(x)\n",
    "    x = Conv2D(512, (3, 3), activation='relu', padding='same', name='conv4_2')(x)\n",
    "    x = MaxPooling2D((2, 2), strides=(2, 2), name='pool4')(x)\n",
    "\n",
    "    # Block fc\n",
    "    x = Flatten(name='flatten')(x)\n",
    "    x = Dense(4096, activation='relu', name='fc1_1')(x)\n",
    "    x = Dense(4096, activation='relu', name='fc1_2')(x)\n",
    "    x = Dense(vggish_params.EMBEDDING_SIZE, activation='relu', name='fc2')(x)\n",
    "\n",
    "\n",
    "    model = Model(img_input, x, name='vggish')\n",
    "    return model"
   ]
  },
  {
   "cell_type": "markdown",
   "metadata": {},
   "source": [
    "### Load weights\n",
    "\n",
    "Need to turn TF layer names into Keras layer names"
   ]
  },
  {
   "cell_type": "code",
   "execution_count": 17,
   "metadata": {},
   "outputs": [
    {
     "name": "stdout",
     "output_type": "stream",
     "text": [
      "INFO:tensorflow:Restoring parameters from ../pretrained_models/vggish_model.ckpt\n"
     ]
    }
   ],
   "source": [
    "import tensorflow as tf\n",
    "import vggish_slim\n",
    "\n",
    "with tf.Graph().as_default(), tf.Session() as sess:\n",
    "    vggish_slim.define_vggish_slim(training=False)\n",
    "    vggish_slim.load_vggish_slim_checkpoint(sess, '../pretrained_models/vggish_model.ckpt')\n",
    "\n",
    "    weights = {}\n",
    "    operations = sess.graph.get_operations()\n",
    "    for op in operations:\n",
    "        name = op.name\n",
    "        if 'read' in name:\n",
    "            name2 = name.replace('vggish/','').replace('/read','').replace('conv3/','').replace('conv4/','').replace('/fc1','')\n",
    "            name2_layer, name2_type = name2.split('/')\n",
    "            if name2_type == 'weights':\n",
    "                weights[name2_layer] = []\n",
    "                weights[name2_layer].append(sess.run(op.values())[0])\n",
    "\n",
    "    for op in operations:\n",
    "        name = op.name\n",
    "        if 'read' in name:\n",
    "            name2 = name.replace('vggish/','').replace('/read','').replace('conv3/','').replace('conv4/','').replace('/fc1','')\n",
    "            name2_layer, name2_type = name2.split('/')\n",
    "            if name2_type == 'biases':\n",
    "                weights[name2_layer].append(sess.run(op.values())[0])"
   ]
  },
  {
   "cell_type": "code",
   "execution_count": 18,
   "metadata": {},
   "outputs": [
    {
     "data": {
      "text/plain": [
       "dict_keys(['conv1', 'conv2', 'conv3_1', 'conv3_2', 'conv4_1', 'conv4_2', 'fc1_1', 'fc1_2', 'fc2'])"
      ]
     },
     "execution_count": 18,
     "metadata": {},
     "output_type": "execute_result"
    }
   ],
   "source": [
    "weights.keys()"
   ]
  },
  {
   "cell_type": "markdown",
   "metadata": {},
   "source": [
    "### Save as Keras model"
   ]
  },
  {
   "cell_type": "code",
   "execution_count": null,
   "metadata": {},
   "outputs": [
    {
     "name": "stdout",
     "output_type": "stream",
     "text": [
      "_________________________________________________________________\n",
      "Layer (type)                 Output Shape              Param #   \n",
      "=================================================================\n",
      "input_1 (InputLayer)         (None, 96, 64, 1)         0         \n",
      "_________________________________________________________________\n",
      "conv1 (Conv2D)               (None, 96, 64, 64)        640       \n",
      "_________________________________________________________________\n",
      "pool1 (MaxPooling2D)         (None, 48, 32, 64)        0         \n",
      "_________________________________________________________________\n",
      "conv2 (Conv2D)               (None, 48, 32, 128)       73856     \n",
      "_________________________________________________________________\n",
      "pool2 (MaxPooling2D)         (None, 24, 16, 128)       0         \n",
      "_________________________________________________________________\n",
      "conv3_1 (Conv2D)             (None, 24, 16, 256)       295168    \n",
      "_________________________________________________________________\n",
      "conv3_2 (Conv2D)             (None, 24, 16, 256)       590080    \n",
      "_________________________________________________________________\n",
      "pool3 (MaxPooling2D)         (None, 12, 8, 256)        0         \n",
      "_________________________________________________________________\n",
      "conv4_1 (Conv2D)             (None, 12, 8, 512)        1180160   \n",
      "_________________________________________________________________\n",
      "conv4_2 (Conv2D)             (None, 12, 8, 512)        2359808   \n",
      "_________________________________________________________________\n",
      "pool4 (MaxPooling2D)         (None, 6, 4, 512)         0         \n",
      "_________________________________________________________________\n",
      "flatten (Flatten)            (None, 12288)             0         \n",
      "_________________________________________________________________\n",
      "fc1_1 (Dense)                (None, 4096)              50335744  \n",
      "_________________________________________________________________\n",
      "fc1_2 (Dense)                (None, 4096)              16781312  \n",
      "_________________________________________________________________\n",
      "fc2 (Dense)                  (None, 128)               524416    \n",
      "=================================================================\n",
      "Total params: 72,141,184\n",
      "Trainable params: 72,141,184\n",
      "Non-trainable params: 0\n",
      "_________________________________________________________________\n"
     ]
    }
   ],
   "source": [
    "model = get_vggish_keras()\n",
    "model.summary()\n",
    "for layer in model.layers:\n",
    "    if layer.name in list(weights.keys()):\n",
    "        layer.set_weights(weights[layer.name])\n",
    "model.save_weights('../pretrained_models/vgg_model.h5')"
   ]
  },
  {
   "cell_type": "markdown",
   "metadata": {},
   "source": [
    "## Load VGGish model wrapped in TimeDistributed layer\n",
    "\n",
    "The normal model only works on a single time-frame. We want to train on multiple frames, so we need to wrap everything in Keras' [TimeDistributed](https://keras.io/layers/wrappers/#TimeDistributed)"
   ]
  },
  {
   "cell_type": "code",
   "execution_count": null,
   "metadata": {},
   "outputs": [],
   "source": [
    "from keras.layers import TimeDistributed\n",
    "\n",
    "def get_vggish_keras_timedistributed():\n",
    "    input_shape = (None, vggish_params.NUM_FRAMES,vggish_params.NUM_BANDS,1)\n",
    "\n",
    "    img_input = Input(shape=input_shape)\n",
    "    # Block 1\n",
    "    x = TimeDistributed(Conv2D(64, (3, 3), activation='relu', padding='same'), name='conv1')(img_input)\n",
    "    x = TimeDistributed(MaxPooling2D((2, 2), strides=(2, 2)), name='pool1')(x)\n",
    "\n",
    "    # Block 2\n",
    "    x = TimeDistributed(Conv2D(128, (3, 3), activation='relu', padding='same', name='conv2'))(x)\n",
    "    x = TimeDistributed(MaxPooling2D((2, 2), strides=(2, 2)), name='pool2')(x)\n",
    "\n",
    "    # Block 3\n",
    "    x = TimeDistributed(Conv2D(256, (3, 3), activation='relu', padding='same', name='conv3_1'))(x)\n",
    "    x = TimeDistributed(Conv2D(256, (3, 3), activation='relu', padding='same', name='conv3_2'))(x)\n",
    "    x = TimeDistributed(MaxPooling2D((2, 2), strides=(2, 2)), name='pool3')(x)\n",
    "\n",
    "    # Block 4\n",
    "    x = TimeDistributed(Conv2D(512, (3, 3), activation='relu', padding='same', name='conv4_1'))(x)\n",
    "    x = TimeDistributed(Conv2D(512, (3, 3), activation='relu', padding='same', name='conv4_2'))(x)\n",
    "    x = TimeDistributed(MaxPooling2D((2, 2), strides=(2, 2)), name='pool4')(x)\n",
    "\n",
    "    # Block fc\n",
    "    x = TimeDistributed(Flatten(), name='flatten')(x)\n",
    "    x = TimeDistributed(Dense(4096, activation='relu'), name='fc1_1')(x)\n",
    "    x = TimeDistributed(Dense(4096, activation='relu'), name='fc1_2')(x)\n",
    "    x = TimeDistributed(Dense(vggish_params.EMBEDDING_SIZE, activation='relu'), name='fc2')(x)\n",
    "\n",
    "    model = Model(img_input, x, name='vggish_across_time')\n",
    "    return model"
   ]
  },
  {
   "cell_type": "code",
   "execution_count": null,
   "metadata": {},
   "outputs": [],
   "source": [
    "model = get_vggish_keras_timedistributed()"
   ]
  },
  {
   "cell_type": "code",
   "execution_count": null,
   "metadata": {},
   "outputs": [
    {
     "name": "stdout",
     "output_type": "stream",
     "text": [
      "_________________________________________________________________\n",
      "Layer (type)                 Output Shape              Param #   \n",
      "=================================================================\n",
      "input_2 (InputLayer)         (None, None, 96, 64, 1)   0         \n",
      "_________________________________________________________________\n",
      "conv1 (TimeDistributed)      (None, None, 96, 64, 64)  640       \n",
      "_________________________________________________________________\n",
      "pool1 (TimeDistributed)      (None, None, 48, 32, 64)  0         \n",
      "_________________________________________________________________\n",
      "time_distributed_1 (TimeDist (None, None, 48, 32, 128) 73856     \n",
      "_________________________________________________________________\n",
      "pool2 (TimeDistributed)      (None, None, 24, 16, 128) 0         \n",
      "_________________________________________________________________\n",
      "time_distributed_2 (TimeDist (None, None, 24, 16, 256) 295168    \n",
      "_________________________________________________________________\n",
      "time_distributed_3 (TimeDist (None, None, 24, 16, 256) 590080    \n",
      "_________________________________________________________________\n",
      "pool3 (TimeDistributed)      (None, None, 12, 8, 256)  0         \n",
      "_________________________________________________________________\n",
      "time_distributed_4 (TimeDist (None, None, 12, 8, 512)  1180160   \n",
      "_________________________________________________________________\n",
      "time_distributed_5 (TimeDist (None, None, 12, 8, 512)  2359808   \n",
      "_________________________________________________________________\n",
      "pool4 (TimeDistributed)      (None, None, 6, 4, 512)   0         \n",
      "_________________________________________________________________\n",
      "flatten (TimeDistributed)    (None, None, 12288)       0         \n",
      "_________________________________________________________________\n",
      "fc1_1 (TimeDistributed)      (None, None, 4096)        50335744  \n",
      "_________________________________________________________________\n",
      "fc1_2 (TimeDistributed)      (None, None, 4096)        16781312  \n",
      "_________________________________________________________________\n",
      "fc2 (TimeDistributed)        (None, None, 128)         524416    \n",
      "=================================================================\n",
      "Total params: 72,141,184\n",
      "Trainable params: 72,141,184\n",
      "Non-trainable params: 0\n",
      "_________________________________________________________________\n"
     ]
    }
   ],
   "source": [
    "model.summary()"
   ]
  },
  {
   "cell_type": "code",
   "execution_count": null,
   "metadata": {},
   "outputs": [],
   "source": [
    "model.load_weights('../pretrained_models/vgg_model.h5')"
   ]
  },
  {
   "cell_type": "code",
   "execution_count": null,
   "metadata": {},
   "outputs": [
    {
     "name": "stdout",
     "output_type": "stream",
     "text": [
      "_________________________________________________________________\n",
      "Layer (type)                 Output Shape              Param #   \n",
      "=================================================================\n",
      "input_2 (InputLayer)         (None, None, 96, 64, 1)   0         \n",
      "_________________________________________________________________\n",
      "conv1 (TimeDistributed)      (None, None, 96, 64, 64)  640       \n",
      "_________________________________________________________________\n",
      "pool1 (TimeDistributed)      (None, None, 48, 32, 64)  0         \n",
      "_________________________________________________________________\n",
      "time_distributed_1 (TimeDist (None, None, 48, 32, 128) 73856     \n",
      "_________________________________________________________________\n",
      "pool2 (TimeDistributed)      (None, None, 24, 16, 128) 0         \n",
      "_________________________________________________________________\n",
      "time_distributed_2 (TimeDist (None, None, 24, 16, 256) 295168    \n",
      "_________________________________________________________________\n",
      "time_distributed_3 (TimeDist (None, None, 24, 16, 256) 590080    \n",
      "_________________________________________________________________\n",
      "pool3 (TimeDistributed)      (None, None, 12, 8, 256)  0         \n",
      "_________________________________________________________________\n",
      "time_distributed_4 (TimeDist (None, None, 12, 8, 512)  1180160   \n",
      "_________________________________________________________________\n",
      "time_distributed_5 (TimeDist (None, None, 12, 8, 512)  2359808   \n",
      "_________________________________________________________________\n",
      "pool4 (TimeDistributed)      (None, None, 6, 4, 512)   0         \n",
      "_________________________________________________________________\n",
      "flatten (TimeDistributed)    (None, None, 12288)       0         \n",
      "_________________________________________________________________\n",
      "fc1_1 (TimeDistributed)      (None, None, 4096)        50335744  \n",
      "_________________________________________________________________\n",
      "fc1_2 (TimeDistributed)      (None, None, 4096)        16781312  \n",
      "_________________________________________________________________\n",
      "fc2 (TimeDistributed)        (None, None, 128)         524416    \n",
      "_________________________________________________________________\n",
      "cu_dnnlstm_1 (CuDNNLSTM)     (None, 127)               130556    \n",
      "_________________________________________________________________\n",
      "out (Dense)                  (None, 8)                 1024      \n",
      "=================================================================\n",
      "Total params: 72,272,764\n",
      "Trainable params: 72,272,764\n",
      "Non-trainable params: 0\n",
      "_________________________________________________________________\n"
     ]
    }
   ],
   "source": [
    "from keras.layers import CuDNNLSTM\n",
    "from tensorflow import Tensor\n",
    "\n",
    "x = CuDNNLSTM(127)(model.layers[-1].output)\n",
    "x = Dense(8, activation='softmax', name='out')(x)\n",
    "\n",
    "final_model = Model(inputs=model.input, outputs=[x])\n",
    "final_model.summary()"
   ]
  },
  {
   "cell_type": "markdown",
   "metadata": {},
   "source": [
    "## Train Model\n",
    "\n",
    "Putting it all together\n",
    "\n",
    "### Compile model\n",
    "\n",
    "First we need to compile the model, for which we'll use the same parameters (for now) as used originally:\n",
    "* Adam optimizer\n",
    "* LR of 1e-4\n",
    "* Adam Epsilon of 1e-8"
   ]
  },
  {
   "cell_type": "code",
   "execution_count": null,
   "metadata": {},
   "outputs": [],
   "source": [
    "from keras.optimizers import Adam\n",
    "from keras.metrics import categorical_accuracy\n",
    "\n",
    "model = final_model\n",
    "optimizer = Adam(lr=vggish_params.LEARNING_RATE, epsilon=vggish_params.ADAM_EPSILON)\n",
    "metrics = [categorical_accuracy]\n",
    "model.compile(optimizer=optimizer, loss='categorical_crossentropy', metrics=metrics)"
   ]
  },
  {
   "cell_type": "markdown",
   "metadata": {},
   "source": [
    "Since we're dealing with var-length data, we can't just call `fit`, but instead need to train on each batch manually."
   ]
  },
  {
   "cell_type": "code",
   "execution_count": null,
   "metadata": {},
   "outputs": [],
   "source": [
    "def train_epoch(model, x_train, y_train):\n",
    "    train_loss = 0.0\n",
    "    train_batches = 0.0\n",
    "    train_accuracy = 0.0\n",
    "    \n",
    "    for x, y in get_shuffled_batches(x_train, y_train):\n",
    "        loss, acc = model.train_on_batch(x, y, class_weight=class_weights)\n",
    "\n",
    "        train_loss += loss\n",
    "        train_accuracy += acc\n",
    "        train_batches += 1\n",
    "    return train_loss / train_batches, train_accuracy / train_batches"
   ]
  },
  {
   "cell_type": "code",
   "execution_count": null,
   "metadata": {},
   "outputs": [],
   "source": [
    "def validate_epoch(model, x_val, y_val, class_weights):\n",
    "    val_loss = 0.0\n",
    "    val_batches = 0.0\n",
    "    val_accuracy = 0.0\n",
    "\n",
    "    for x, y in get_shuffled_batches(x_val, y_val):\n",
    "        sample_weights = sample_weights_from_class_weights(class_weights, y)\n",
    "        loss, acc = model.evaluate(x, y, batch_size=1, sample_weight=sample_weights, verbose=0)\n",
    "        val_loss += loss\n",
    "        val_accuracy += acc\n",
    "        val_batches += 1\n",
    "    return val_loss / val_batches, val_accuracy / val_batches"
   ]
  },
  {
   "cell_type": "code",
   "execution_count": null,
   "metadata": {},
   "outputs": [],
   "source": [
    "from IPython import display\n",
    "\n",
    "def plot_losses(epoch, train_loss, train_acc, val_loss, val_acc):\n",
    "        fig = plt.figure()\n",
    "\n",
    "        ax1 = fig.add_subplot(211)\n",
    "        ax2 = ax1.twinx()\n",
    "        ax3 = fig.add_subplot(212)\n",
    "\n",
    "        fig.canvas.draw()\n",
    "        \n",
    "        epochs = list(range(epoch + 1))\n",
    "        \n",
    "        ax1.set_xlabel(\"Epoch\")\n",
    "        ax1.set_ylabel(\"Train Loss\")\n",
    "        ax2.set_ylabel(\"Val Loss\")\n",
    "        ax1.plot(epochs, train_loss)\n",
    "        ax2.plot(epochs, val_loss)\n",
    "\n",
    "        ax3.set_xlabel(\"Epoch\")\n",
    "        ax3.set_ylabel(\"Accuracy\")\n",
    "        ax3.plot(epochs, train_acc)\n",
    "        ax3.plot(epochs, val_acc)\n",
    "        ax3.legend()\n",
    "\n",
    "        fig.tight_layout()\n",
    "        fig.canvas.draw()\n",
    "        \n",
    "        display.display(fig)\n",
    "        display.clear_output(wait=True)\n"
   ]
  },
  {
   "cell_type": "code",
   "execution_count": null,
   "metadata": {},
   "outputs": [],
   "source": [
    "from datetime import datetime\n",
    "from keras.callbacks import ModelCheckpoint\n",
    "import os\n",
    "\n",
    "checkpoint_dir = \"../model_checkpoints/\"\n",
    "\n",
    "if not os.path.exists(checkpoint_dir):\n",
    "    os.makedirs(checkpoint_dir)\n",
    "\n",
    "timestamp = datetime.utcnow().strftime('%Y-%m-%d_%H-%M-%S')\n",
    "model_checkpoint_filepath = checkpoint_dir + timestamp + \"_epoch-{epoch:02d}_val-{val_loss:.4f}.hdf5\"\n",
    "model_checkpointer = ModelCheckpoint(model_checkpoint_filepath,\n",
    "                                     monitor='val_loss',\n",
    "                                     verbose=0,\n",
    "                                     save_best_only=True,\n",
    "                                     save_weights_only=False,\n",
    "                                     mode='auto',\n",
    "                                     period=1)"
   ]
  },
  {
   "cell_type": "code",
   "execution_count": null,
   "metadata": {
    "scrolled": false
   },
   "outputs": [],
   "source": [
    "import matplotlib.pylab as plt\n",
    "import pandas as pd\n",
    "%matplotlib inline\n",
    "\n",
    "NUM_EPOCHS = 5\n",
    "\n",
    "train_losses = []\n",
    "train_accs = []\n",
    "val_losses = []\n",
    "val_accs = []\n",
    "\n",
    "model_checkpointer.set_model(model)\n",
    "model_checkpointer.on_train_begin()\n",
    "\n",
    "for epoch in range(NUM_EPOCHS):\n",
    "    \n",
    "    model_checkpointer.on_epoch_begin(epoch)\n",
    "    train_loss, train_acc = train_epoch(model, x_train, y_train)\n",
    "\n",
    "    train_losses.append(train_loss)\n",
    "    train_accs.append(train_acc)\n",
    "\n",
    "    val_loss, val_acc = validate_epoch(model, x_train, y_train, class_weights)\n",
    "\n",
    "    val_losses.append(val_loss)\n",
    "    val_accs.append(val_acc)\n",
    "    \n",
    "    model_checkpointer.on_epoch_end(epoch, logs={\n",
    "        \"loss\": train_loss,\n",
    "        \"val_loss\": val_loss\n",
    "    })\n",
    "    \n",
    "    plot_losses(epoch, train_losses, train_accs, val_losses, val_accs)\n",
    "    "
   ]
  },
  {
   "cell_type": "code",
   "execution_count": null,
   "metadata": {},
   "outputs": [],
   "source": [
    "timestamp = \"_\".join(os.path.basename(callback.filepath).split(\"_\")[:2])\n",
    "model_path = [os.path.join(checkpoint_dir, i) for i in os.listdir(checkpoint_dir)\n",
    "              if os.path.isfile(os.path.join(checkpoint_dir, i))\n",
    "              and timestamp in i][0]\n",
    "model.load_weights(model_path)"
   ]
  },
  {
   "cell_type": "code",
   "execution_count": null,
   "metadata": {},
   "outputs": [],
   "source": [
    "predictions = []\n",
    "true_labels = []\n",
    "sample_weights = []\n",
    "for x, y in get_shuffled_batches(x_test, y_test):\n",
    "    prediction = model.predict_on_batch(x)\n",
    "    predictions.append(prediction)\n",
    "    true_labels.append(y)\n",
    "    sample_weights.append(sample_weights_from_class_weights(class_weights, y))"
   ]
  },
  {
   "cell_type": "code",
   "execution_count": null,
   "metadata": {},
   "outputs": [],
   "source": [
    "predictions = np.array(predictions)\n",
    "true_labels = np.array(true_labels)\n",
    "sample_weights = np.array(sample_weights)"
   ]
  },
  {
   "cell_type": "code",
   "execution_count": null,
   "metadata": {},
   "outputs": [],
   "source": [
    "predictions = np.argmax(predictions, axis=2)\n",
    "true_labels = np.argmax(true_labels, axis=2)"
   ]
  },
  {
   "cell_type": "code",
   "execution_count": null,
   "metadata": {},
   "outputs": [],
   "source": [
    "predictions = np.reshape(predictions, predictions.shape[0])\n",
    "true_labels = np.reshape(true_labels, true_labels.shape[0])\n",
    "sample_weights = np.reshape(sample_weights, sample_weights.shape[0])"
   ]
  },
  {
   "cell_type": "code",
   "execution_count": null,
   "metadata": {},
   "outputs": [],
   "source": [
    "from sklearn.metrics import precision_score, recall_score, f1_score, accuracy_score, confusion_matrix\n",
    "\n",
    "metrics = dict(\n",
    "    precision = precision_score(true_labels, predictions, average=None),\n",
    "    recall = recall_score(true_labels, predictions, average=None),\n",
    "    f1 = f1_score(true_labels, predictions, average=None),\n",
    "    accuracy_raw = accuracy_score(true_labels, predictions),\n",
    "    accuracy_weighted = accuracy_score(true_labels, predictions, sample_weight=sample_weights),\n",
    "    confusion = confusion_matrix(true_labels, predictions)\n",
    ")"
   ]
  },
  {
   "cell_type": "code",
   "execution_count": null,
   "metadata": {},
   "outputs": [],
   "source": [
    "metrics"
   ]
  },
  {
   "cell_type": "code",
   "execution_count": null,
   "metadata": {},
   "outputs": [],
   "source": [
    "import itertools\n",
    "\n",
    "def plot_confusion_matrix(cm,\n",
    "                          classes,\n",
    "                          normalize=False,\n",
    "                          title='Confusion matrix',\n",
    "                          cmap=plt.cm.Blues,\n",
    "                          block=False):\n",
    "    if normalize:\n",
    "        cm = cm.astype('float') / cm.sum(axis=1)[:, np.newaxis]\n",
    "\n",
    "    plt.imshow(cm, interpolation='nearest', cmap=cmap)\n",
    "    plt.title(title)\n",
    "    plt.colorbar()\n",
    "    tick_marks = np.arange(len(classes))\n",
    "    plt.xticks(tick_marks, classes, rotation=45)\n",
    "    plt.yticks(tick_marks, classes)\n",
    "\n",
    "    fmt = '.2f' if normalize else 'd'\n",
    "    thresh = np.average(cm)\n",
    "    for i, j in itertools.product(range(cm.shape[0]), range(cm.shape[1])):\n",
    "        plt.text(j, i, format(cm[i, j], fmt),\n",
    "                 horizontalalignment=\"center\",\n",
    "                 color=\"white\" if cm[i, j] > thresh else \"black\")\n",
    "\n",
    "    plt.tight_layout()\n",
    "    plt.ylabel('True label')\n",
    "    plt.xlabel('Predicted label')\n",
    "    if block:\n",
    "        plt.show()"
   ]
  },
  {
   "cell_type": "code",
   "execution_count": null,
   "metadata": {},
   "outputs": [],
   "source": [
    "emotions = [\"neutral\", \"calm\", \"happy\", \"sad\", \"angry\", \"fearful\", \"disgust\", \"surprised\"]\n",
    "\n",
    "plot_confusion_matrix(metrics[\"confusion\"], classes=emotions)"
   ]
  },
  {
   "cell_type": "code",
   "execution_count": null,
   "metadata": {},
   "outputs": [],
   "source": [
    "plot_confusion_matrix(metrics[\"confusion\"], classes=emotions, normalize=True)"
   ]
  },
  {
   "cell_type": "code",
   "execution_count": null,
   "metadata": {},
   "outputs": [],
   "source": []
  }
 ],
 "metadata": {
  "kernelspec": {
   "display_name": "Python 3",
   "language": "python",
   "name": "python3"
  },
  "language_info": {
   "codemirror_mode": {
    "name": "ipython",
    "version": 3
   },
   "file_extension": ".py",
   "mimetype": "text/x-python",
   "name": "python",
   "nbconvert_exporter": "python",
   "pygments_lexer": "ipython3",
   "version": "3.6.7"
  }
 },
 "nbformat": 4,
 "nbformat_minor": 2
}
