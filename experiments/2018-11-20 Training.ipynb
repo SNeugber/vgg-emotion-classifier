{
 "cells": [
  {
   "cell_type": "markdown",
   "metadata": {},
   "source": [
    "## Load labels"
   ]
  },
  {
   "cell_type": "code",
   "execution_count": 1,
   "metadata": {},
   "outputs": [
    {
     "data": {
      "text/plain": [
       "WindowsPath('../data')"
      ]
     },
     "execution_count": 1,
     "metadata": {},
     "output_type": "execute_result"
    }
   ],
   "source": [
    "from pathlib import Path\n",
    "\n",
    "data_path = Path(\"../data\")\n",
    "data_path"
   ]
  },
  {
   "cell_type": "markdown",
   "metadata": {},
   "source": [
    "### List all WAV files"
   ]
  },
  {
   "cell_type": "code",
   "execution_count": 2,
   "metadata": {},
   "outputs": [
    {
     "data": {
      "text/plain": [
       "[WindowsPath('../data/03-01-01-01-01-01-01.wav'),\n",
       " WindowsPath('../data/03-01-01-01-01-01-02.wav'),\n",
       " WindowsPath('../data/03-01-01-01-01-01-03.wav'),\n",
       " WindowsPath('../data/03-01-01-01-01-01-04.wav'),\n",
       " WindowsPath('../data/03-01-01-01-01-01-05.wav')]"
      ]
     },
     "execution_count": 2,
     "metadata": {},
     "output_type": "execute_result"
    }
   ],
   "source": [
    "wav_files = data_path.glob(\"*.wav\")\n",
    "wav_files = list(wav_files)\n",
    "wav_files[:5]"
   ]
  },
  {
   "cell_type": "markdown",
   "metadata": {},
   "source": [
    "### Map file names to their classes.\n",
    "\n",
    "Each emotion is labelled as 01 - 08, so we convert that to labels 0 - 7"
   ]
  },
  {
   "cell_type": "code",
   "execution_count": 3,
   "metadata": {},
   "outputs": [
    {
     "data": {
      "text/plain": [
       "[('03-01-01-01-01-01-01.wav', 0),\n",
       " ('03-01-01-01-01-01-02.wav', 0),\n",
       " ('03-01-01-01-01-01-03.wav', 0),\n",
       " ('03-01-01-01-01-01-04.wav', 0),\n",
       " ('03-01-01-01-01-01-05.wav', 0)]"
      ]
     },
     "execution_count": 3,
     "metadata": {},
     "output_type": "execute_result"
    }
   ],
   "source": [
    "def class_from_file_name(fname):\n",
    "    return int(fname.split('-')[2]) - 1\n",
    "\n",
    "labels = {\n",
    "    f.name: class_from_file_name(f.name)\n",
    "    for f in wav_files\n",
    "}\n",
    "[(k, v) for k, v in labels.items()][:5]"
   ]
  },
  {
   "cell_type": "markdown",
   "metadata": {},
   "source": [
    "### Extract number of classes"
   ]
  },
  {
   "cell_type": "code",
   "execution_count": 4,
   "metadata": {},
   "outputs": [
    {
     "data": {
      "text/plain": [
       "8"
      ]
     },
     "execution_count": 4,
     "metadata": {},
     "output_type": "execute_result"
    }
   ],
   "source": [
    "NUM_CLASSES = len(set(labels.values()))\n",
    "NUM_CLASSES"
   ]
  },
  {
   "cell_type": "markdown",
   "metadata": {},
   "source": [
    "## Load Data"
   ]
  },
  {
   "cell_type": "markdown",
   "metadata": {},
   "source": [
    "### Fix PYTHONPATH\n",
    "\n",
    "Add the path to the vgg-related files to the pythonpath so that we can import the modules"
   ]
  },
  {
   "cell_type": "code",
   "execution_count": 5,
   "metadata": {},
   "outputs": [
    {
     "data": {
      "text/plain": [
       "WindowsPath('D:/Work/playground/vgg-emotion-classifier/vgg')"
      ]
     },
     "execution_count": 5,
     "metadata": {},
     "output_type": "execute_result"
    }
   ],
   "source": [
    "import os\n",
    "import sys\n",
    "nb_dir = Path(os.getcwd())\n",
    "vgg_dir = nb_dir.parent / 'vgg'\n",
    "vgg_dir"
   ]
  },
  {
   "cell_type": "code",
   "execution_count": 6,
   "metadata": {},
   "outputs": [
    {
     "data": {
      "text/plain": [
       "['',\n",
       " 'C:\\\\Users\\\\Sam\\\\Anaconda3\\\\envs\\\\vggec\\\\python36.zip',\n",
       " 'C:\\\\Users\\\\Sam\\\\Anaconda3\\\\envs\\\\vggec\\\\DLLs',\n",
       " 'C:\\\\Users\\\\Sam\\\\Anaconda3\\\\envs\\\\vggec\\\\lib',\n",
       " 'C:\\\\Users\\\\Sam\\\\Anaconda3\\\\envs\\\\vggec',\n",
       " 'C:\\\\Users\\\\Sam\\\\Anaconda3\\\\envs\\\\vggec\\\\lib\\\\site-packages',\n",
       " 'C:\\\\Users\\\\Sam\\\\Anaconda3\\\\envs\\\\vggec\\\\lib\\\\site-packages\\\\IPython\\\\extensions',\n",
       " 'C:\\\\Users\\\\Sam\\\\.ipython',\n",
       " 'D:\\\\Work\\\\playground\\\\vgg-emotion-classifier\\\\vgg']"
      ]
     },
     "execution_count": 6,
     "metadata": {},
     "output_type": "execute_result"
    }
   ],
   "source": [
    "if str(vgg_dir) not in sys.path:\n",
    "    sys.path.append(str(vgg_dir))\n",
    "sys.path"
   ]
  },
  {
   "cell_type": "markdown",
   "metadata": {},
   "source": [
    "### Read WAV files\n",
    "\n",
    "Read in the wav files and convert them into the correct shape for the VGGish model (this is thankfully taken care of already by the example code provided)"
   ]
  },
  {
   "cell_type": "code",
   "execution_count": 7,
   "metadata": {},
   "outputs": [],
   "source": [
    "from vggish_input import wavfile_to_examples "
   ]
  },
  {
   "cell_type": "code",
   "execution_count": 8,
   "metadata": {},
   "outputs": [],
   "source": [
    "data = {\n",
    "    f.name: wavfile_to_examples(str(f))\n",
    "    for f in wav_files\n",
    "}"
   ]
  },
  {
   "cell_type": "code",
   "execution_count": 9,
   "metadata": {},
   "outputs": [
    {
     "data": {
      "text/plain": [
       "(3, 96, 64)"
      ]
     },
     "execution_count": 9,
     "metadata": {},
     "output_type": "execute_result"
    }
   ],
   "source": [
    "data['03-01-01-01-01-01-01.wav'].shape"
   ]
  },
  {
   "cell_type": "markdown",
   "metadata": {},
   "source": [
    "### Convert labels to one-hot vectors\n",
    "\n",
    "For multi-class classification using categorical crossentropy we want the labels in one-hot encoded form.\n",
    "\n",
    "E.g. label `1` becomes `[0, 1, 0, 0 ,0 ,0, 0, 0]`"
   ]
  },
  {
   "cell_type": "code",
   "execution_count": 10,
   "metadata": {},
   "outputs": [],
   "source": [
    "import numpy as np\n",
    "\n",
    "y = np.array(list(labels.values()))\n",
    "y_one_hot = np.zeros(((y.size, y.max()+1)))\n",
    "y_one_hot[np.arange(y.size), y] = 1"
   ]
  },
  {
   "cell_type": "markdown",
   "metadata": {},
   "source": [
    "### Split dataset\n",
    "\n",
    "Split into\n",
    "\n",
    "* train: 70%\n",
    "* val: 15%\n",
    "* test: 15%"
   ]
  },
  {
   "cell_type": "code",
   "execution_count": 11,
   "metadata": {},
   "outputs": [],
   "source": [
    "from sklearn.model_selection import train_test_split"
   ]
  },
  {
   "cell_type": "code",
   "execution_count": 51,
   "metadata": {},
   "outputs": [
    {
     "name": "stdout",
     "output_type": "stream",
     "text": [
      "Training size: 1008\n",
      "Validation size: 216\n",
      "Training size: 216\n"
     ]
    }
   ],
   "source": [
    "seed = 987234871\n",
    "\n",
    "x_train_keys, x_test_keys, y_train, y_test = train_test_split(list(labels.keys()),\n",
    "                                                    y_one_hot,\n",
    "                                                    test_size = 0.15,\n",
    "                                                    random_state = seed)\n",
    "\n",
    "x_train_keys, x_val_keys, y_train, y_val = train_test_split(x_train_keys,\n",
    "                                                            y_train,\n",
    "                                                            test_size = 0.15 / (1 - 0.15),\n",
    "                                                            random_state = seed)\n",
    "\n",
    "x_train = np.array([data[key] for key in x_train_keys])\n",
    "x_val = np.array([data[key] for key in x_val_keys])\n",
    "x_test = np.array([data[key] for key in x_test_keys])\n",
    "\n",
    "print(f\"Training size: {len(x_train_keys)}\")\n",
    "print(f\"Validation size: {len(x_val_keys)}\")\n",
    "print(f\"Training size: {len(x_test_keys)}\")"
   ]
  },
  {
   "cell_type": "code",
   "execution_count": 52,
   "metadata": {},
   "outputs": [
    {
     "data": {
      "text/plain": [
       "array([[0., 0., 0., 0., 1., 0., 0., 0.],\n",
       "       [0., 1., 0., 0., 0., 0., 0., 0.],\n",
       "       [0., 0., 0., 1., 0., 0., 0., 0.],\n",
       "       [0., 0., 0., 1., 0., 0., 0., 0.],\n",
       "       [0., 0., 0., 0., 0., 0., 0., 1.]])"
      ]
     },
     "execution_count": 52,
     "metadata": {},
     "output_type": "execute_result"
    }
   ],
   "source": [
    "y_train[:5]"
   ]
  },
  {
   "cell_type": "markdown",
   "metadata": {},
   "source": [
    "### Compute balanced weights\n",
    "\n",
    "The number of instances for each class isn't balanced, so we need to create weightings for each class to even things out during training"
   ]
  },
  {
   "cell_type": "code",
   "execution_count": 14,
   "metadata": {},
   "outputs": [],
   "source": [
    "from sklearn.utils import class_weight\n",
    "import numpy as np\n",
    "\n",
    "class_weights = class_weight.compute_class_weight('balanced',\n",
    "                                                         np.unique(list(labels.values())),\n",
    "                                                         list(labels.values()))\n",
    "# class_weights = {c: w for c, w in enumerate(scikit_class_weights)}\n",
    "# class_weights\n",
    "# scikit_class_weights"
   ]
  },
  {
   "cell_type": "markdown",
   "metadata": {},
   "source": [
    "Create function to convert class weights to sample weights"
   ]
  },
  {
   "cell_type": "code",
   "execution_count": 76,
   "metadata": {},
   "outputs": [],
   "source": [
    "def sample_weights_from_class_weights(class_weights, labels):\n",
    "    return np.array([class_weights[np.argmax(label)] for label in labels])"
   ]
  },
  {
   "cell_type": "markdown",
   "metadata": {},
   "source": [
    "### Create function to get batches from data"
   ]
  },
  {
   "cell_type": "code",
   "execution_count": 57,
   "metadata": {},
   "outputs": [],
   "source": [
    "from random import shuffle\n",
    "def get_shuffled_batches(x, y):\n",
    "    assert len(x) == len(y)\n",
    "    indexes = list(range(len(x)))\n",
    "    shuffle(indexes)\n",
    "    for x, y in zip(x[indexes], y[indexes]):\n",
    "        x_batch = np.reshape(x, (1, *x.shape, 1))\n",
    "        y_batch = np.reshape(y, (1, *y.shape))\n",
    "        yield x_batch, y_batch"
   ]
  },
  {
   "cell_type": "markdown",
   "metadata": {},
   "source": [
    "## Convert pretrained TF weights to Keras model checkpoint"
   ]
  },
  {
   "cell_type": "markdown",
   "metadata": {},
   "source": [
    "Don't want to deal with the TF library, Keras is much easier to use imo. That means we first need to turn the TF checkpoint into a Keras checkpoint.\n",
    "\n",
    "It should theoretically be possible to load the TF checkpoint as is, but this way I know it'll work."
   ]
  },
  {
   "cell_type": "markdown",
   "metadata": {},
   "source": [
    "### Define exact VGGish model in Keras\n",
    "\n",
    "Code taken from https://github.com/SNeugber/vggish2Keras, which is a clone of https://github.com/antoinemrcr/vggish2Keras"
   ]
  },
  {
   "cell_type": "code",
   "execution_count": 15,
   "metadata": {},
   "outputs": [
    {
     "name": "stderr",
     "output_type": "stream",
     "text": [
      "Using TensorFlow backend.\n"
     ]
    }
   ],
   "source": [
    "from keras.layers import Input, Dense, Conv2D, MaxPooling2D, Flatten\n",
    "from keras.models import Model\n",
    "import vggish_params\n",
    "\n",
    "def get_vggish_keras():\n",
    "    input_shape = (vggish_params.NUM_FRAMES,vggish_params.NUM_BANDS,1)\n",
    "\n",
    "    img_input = Input( shape=input_shape)\n",
    "    # Block 1\n",
    "    x = Conv2D(64, (3, 3), activation='relu', padding='same', name='conv1')(img_input)\n",
    "    x = MaxPooling2D((2, 2), strides=(2, 2), name='pool1')(x)\n",
    "\n",
    "    # Block 2\n",
    "    x = Conv2D(128, (3, 3), activation='relu', padding='same', name='conv2')(x)\n",
    "    x = MaxPooling2D((2, 2), strides=(2, 2), name='pool2')(x)\n",
    "\n",
    "    # Block 3\n",
    "    x = Conv2D(256, (3, 3), activation='relu', padding='same', name='conv3_1')(x)\n",
    "    x = Conv2D(256, (3, 3), activation='relu', padding='same', name='conv3_2')(x)\n",
    "    x = MaxPooling2D((2, 2), strides=(2, 2), name='pool3')(x)\n",
    "\n",
    "    # Block 4\n",
    "    x = Conv2D(512, (3, 3), activation='relu', padding='same', name='conv4_1')(x)\n",
    "    x = Conv2D(512, (3, 3), activation='relu', padding='same', name='conv4_2')(x)\n",
    "    x = MaxPooling2D((2, 2), strides=(2, 2), name='pool4')(x)\n",
    "\n",
    "    # Block fc\n",
    "    x = Flatten(name='flatten')(x)\n",
    "    x = Dense(4096, activation='relu', name='fc1_1')(x)\n",
    "    x = Dense(4096, activation='relu', name='fc1_2')(x)\n",
    "    x = Dense(vggish_params.EMBEDDING_SIZE, activation='relu', name='fc2')(x)\n",
    "\n",
    "\n",
    "    model = Model(img_input, x, name='vggish')\n",
    "    return model"
   ]
  },
  {
   "cell_type": "markdown",
   "metadata": {},
   "source": [
    "### Load weights\n",
    "\n",
    "Need to turn TF layer names into Keras layer names"
   ]
  },
  {
   "cell_type": "code",
   "execution_count": 16,
   "metadata": {},
   "outputs": [
    {
     "name": "stdout",
     "output_type": "stream",
     "text": [
      "INFO:tensorflow:Restoring parameters from ../pretrained_models/vggish_model.ckpt\n"
     ]
    }
   ],
   "source": [
    "import tensorflow as tf\n",
    "import vggish_slim\n",
    "\n",
    "with tf.Graph().as_default(), tf.Session() as sess:\n",
    "    vggish_slim.define_vggish_slim(training=False)\n",
    "    vggish_slim.load_vggish_slim_checkpoint(sess, '../pretrained_models/vggish_model.ckpt')\n",
    "\n",
    "    weights = {}\n",
    "    operations = sess.graph.get_operations()\n",
    "    for op in operations:\n",
    "        name = op.name\n",
    "        if 'read' in name:\n",
    "            name2 = name.replace('vggish/','').replace('/read','').replace('conv3/','').replace('conv4/','').replace('/fc1','')\n",
    "            name2_layer, name2_type = name2.split('/')\n",
    "            if name2_type == 'weights':\n",
    "                weights[name2_layer] = []\n",
    "                weights[name2_layer].append(sess.run(op.values())[0])\n",
    "\n",
    "    for op in operations:\n",
    "        name = op.name\n",
    "        if 'read' in name:\n",
    "            name2 = name.replace('vggish/','').replace('/read','').replace('conv3/','').replace('conv4/','').replace('/fc1','')\n",
    "            name2_layer, name2_type = name2.split('/')\n",
    "            if name2_type == 'biases':\n",
    "                weights[name2_layer].append(sess.run(op.values())[0])"
   ]
  },
  {
   "cell_type": "code",
   "execution_count": 17,
   "metadata": {},
   "outputs": [
    {
     "data": {
      "text/plain": [
       "dict_keys(['conv1', 'conv2', 'conv3_1', 'conv3_2', 'conv4_1', 'conv4_2', 'fc1_1', 'fc1_2', 'fc2'])"
      ]
     },
     "execution_count": 17,
     "metadata": {},
     "output_type": "execute_result"
    }
   ],
   "source": [
    "weights.keys()"
   ]
  },
  {
   "cell_type": "markdown",
   "metadata": {},
   "source": [
    "### Save as Keras model"
   ]
  },
  {
   "cell_type": "code",
   "execution_count": 18,
   "metadata": {},
   "outputs": [
    {
     "name": "stdout",
     "output_type": "stream",
     "text": [
      "_________________________________________________________________\n",
      "Layer (type)                 Output Shape              Param #   \n",
      "=================================================================\n",
      "input_1 (InputLayer)         (None, 96, 64, 1)         0         \n",
      "_________________________________________________________________\n",
      "conv1 (Conv2D)               (None, 96, 64, 64)        640       \n",
      "_________________________________________________________________\n",
      "pool1 (MaxPooling2D)         (None, 48, 32, 64)        0         \n",
      "_________________________________________________________________\n",
      "conv2 (Conv2D)               (None, 48, 32, 128)       73856     \n",
      "_________________________________________________________________\n",
      "pool2 (MaxPooling2D)         (None, 24, 16, 128)       0         \n",
      "_________________________________________________________________\n",
      "conv3_1 (Conv2D)             (None, 24, 16, 256)       295168    \n",
      "_________________________________________________________________\n",
      "conv3_2 (Conv2D)             (None, 24, 16, 256)       590080    \n",
      "_________________________________________________________________\n",
      "pool3 (MaxPooling2D)         (None, 12, 8, 256)        0         \n",
      "_________________________________________________________________\n",
      "conv4_1 (Conv2D)             (None, 12, 8, 512)        1180160   \n",
      "_________________________________________________________________\n",
      "conv4_2 (Conv2D)             (None, 12, 8, 512)        2359808   \n",
      "_________________________________________________________________\n",
      "pool4 (MaxPooling2D)         (None, 6, 4, 512)         0         \n",
      "_________________________________________________________________\n",
      "flatten (Flatten)            (None, 12288)             0         \n",
      "_________________________________________________________________\n",
      "fc1_1 (Dense)                (None, 4096)              50335744  \n",
      "_________________________________________________________________\n",
      "fc1_2 (Dense)                (None, 4096)              16781312  \n",
      "_________________________________________________________________\n",
      "fc2 (Dense)                  (None, 128)               524416    \n",
      "=================================================================\n",
      "Total params: 72,141,184\n",
      "Trainable params: 72,141,184\n",
      "Non-trainable params: 0\n",
      "_________________________________________________________________\n"
     ]
    }
   ],
   "source": [
    "model = get_vggish_keras()\n",
    "model.summary()\n",
    "for layer in model.layers:\n",
    "    if layer.name in list(weights.keys()):\n",
    "        layer.set_weights(weights[layer.name])\n",
    "model.save_weights('../pretrained_models/vgg_model.h5')"
   ]
  },
  {
   "cell_type": "markdown",
   "metadata": {},
   "source": [
    "## Load VGGish model wrapped in TimeDistributed layer\n",
    "\n",
    "The normal model only works on a single time-frame. We want to train on multiple frames, so we need to wrap everything in Keras' [TimeDistributed](https://keras.io/layers/wrappers/#TimeDistributed)"
   ]
  },
  {
   "cell_type": "code",
   "execution_count": 19,
   "metadata": {},
   "outputs": [],
   "source": [
    "from keras.layers import TimeDistributed\n",
    "\n",
    "def get_vggish_keras_timedistributed():\n",
    "    input_shape = (None, vggish_params.NUM_FRAMES,vggish_params.NUM_BANDS,1)\n",
    "\n",
    "    img_input = Input(shape=input_shape)\n",
    "    # Block 1\n",
    "    x = TimeDistributed(Conv2D(64, (3, 3), activation='relu', padding='same'), name='conv1')(img_input)\n",
    "    x = TimeDistributed(MaxPooling2D((2, 2), strides=(2, 2)), name='pool1')(x)\n",
    "\n",
    "    # Block 2\n",
    "    x = TimeDistributed(Conv2D(128, (3, 3), activation='relu', padding='same', name='conv2'))(x)\n",
    "    x = TimeDistributed(MaxPooling2D((2, 2), strides=(2, 2)), name='pool2')(x)\n",
    "\n",
    "    # Block 3\n",
    "    x = TimeDistributed(Conv2D(256, (3, 3), activation='relu', padding='same', name='conv3_1'))(x)\n",
    "    x = TimeDistributed(Conv2D(256, (3, 3), activation='relu', padding='same', name='conv3_2'))(x)\n",
    "    x = TimeDistributed(MaxPooling2D((2, 2), strides=(2, 2)), name='pool3')(x)\n",
    "\n",
    "    # Block 4\n",
    "    x = TimeDistributed(Conv2D(512, (3, 3), activation='relu', padding='same', name='conv4_1'))(x)\n",
    "    x = TimeDistributed(Conv2D(512, (3, 3), activation='relu', padding='same', name='conv4_2'))(x)\n",
    "    x = TimeDistributed(MaxPooling2D((2, 2), strides=(2, 2)), name='pool4')(x)\n",
    "\n",
    "    # Block fc\n",
    "    x = TimeDistributed(Flatten(), name='flatten')(x)\n",
    "    x = TimeDistributed(Dense(4096, activation='relu'), name='fc1_1')(x)\n",
    "    x = TimeDistributed(Dense(4096, activation='relu'), name='fc1_2')(x)\n",
    "    x = TimeDistributed(Dense(vggish_params.EMBEDDING_SIZE, activation='relu'), name='fc2')(x)\n",
    "\n",
    "    model = Model(img_input, x, name='vggish_across_time')\n",
    "    return model"
   ]
  },
  {
   "cell_type": "code",
   "execution_count": 20,
   "metadata": {},
   "outputs": [],
   "source": [
    "model = get_vggish_keras_timedistributed()"
   ]
  },
  {
   "cell_type": "code",
   "execution_count": 21,
   "metadata": {},
   "outputs": [
    {
     "name": "stdout",
     "output_type": "stream",
     "text": [
      "_________________________________________________________________\n",
      "Layer (type)                 Output Shape              Param #   \n",
      "=================================================================\n",
      "input_2 (InputLayer)         (None, None, 96, 64, 1)   0         \n",
      "_________________________________________________________________\n",
      "conv1 (TimeDistributed)      (None, None, 96, 64, 64)  640       \n",
      "_________________________________________________________________\n",
      "pool1 (TimeDistributed)      (None, None, 48, 32, 64)  0         \n",
      "_________________________________________________________________\n",
      "time_distributed_1 (TimeDist (None, None, 48, 32, 128) 73856     \n",
      "_________________________________________________________________\n",
      "pool2 (TimeDistributed)      (None, None, 24, 16, 128) 0         \n",
      "_________________________________________________________________\n",
      "time_distributed_2 (TimeDist (None, None, 24, 16, 256) 295168    \n",
      "_________________________________________________________________\n",
      "time_distributed_3 (TimeDist (None, None, 24, 16, 256) 590080    \n",
      "_________________________________________________________________\n",
      "pool3 (TimeDistributed)      (None, None, 12, 8, 256)  0         \n",
      "_________________________________________________________________\n",
      "time_distributed_4 (TimeDist (None, None, 12, 8, 512)  1180160   \n",
      "_________________________________________________________________\n",
      "time_distributed_5 (TimeDist (None, None, 12, 8, 512)  2359808   \n",
      "_________________________________________________________________\n",
      "pool4 (TimeDistributed)      (None, None, 6, 4, 512)   0         \n",
      "_________________________________________________________________\n",
      "flatten (TimeDistributed)    (None, None, 12288)       0         \n",
      "_________________________________________________________________\n",
      "fc1_1 (TimeDistributed)      (None, None, 4096)        50335744  \n",
      "_________________________________________________________________\n",
      "fc1_2 (TimeDistributed)      (None, None, 4096)        16781312  \n",
      "_________________________________________________________________\n",
      "fc2 (TimeDistributed)        (None, None, 128)         524416    \n",
      "=================================================================\n",
      "Total params: 72,141,184\n",
      "Trainable params: 72,141,184\n",
      "Non-trainable params: 0\n",
      "_________________________________________________________________\n"
     ]
    }
   ],
   "source": [
    "model.summary()"
   ]
  },
  {
   "cell_type": "code",
   "execution_count": 22,
   "metadata": {},
   "outputs": [],
   "source": [
    "model.load_weights('../pretrained_models/vgg_model.h5')"
   ]
  },
  {
   "cell_type": "code",
   "execution_count": 23,
   "metadata": {},
   "outputs": [
    {
     "name": "stdout",
     "output_type": "stream",
     "text": [
      "_________________________________________________________________\n",
      "Layer (type)                 Output Shape              Param #   \n",
      "=================================================================\n",
      "input_2 (InputLayer)         (None, None, 96, 64, 1)   0         \n",
      "_________________________________________________________________\n",
      "conv1 (TimeDistributed)      (None, None, 96, 64, 64)  640       \n",
      "_________________________________________________________________\n",
      "pool1 (TimeDistributed)      (None, None, 48, 32, 64)  0         \n",
      "_________________________________________________________________\n",
      "time_distributed_1 (TimeDist (None, None, 48, 32, 128) 73856     \n",
      "_________________________________________________________________\n",
      "pool2 (TimeDistributed)      (None, None, 24, 16, 128) 0         \n",
      "_________________________________________________________________\n",
      "time_distributed_2 (TimeDist (None, None, 24, 16, 256) 295168    \n",
      "_________________________________________________________________\n",
      "time_distributed_3 (TimeDist (None, None, 24, 16, 256) 590080    \n",
      "_________________________________________________________________\n",
      "pool3 (TimeDistributed)      (None, None, 12, 8, 256)  0         \n",
      "_________________________________________________________________\n",
      "time_distributed_4 (TimeDist (None, None, 12, 8, 512)  1180160   \n",
      "_________________________________________________________________\n",
      "time_distributed_5 (TimeDist (None, None, 12, 8, 512)  2359808   \n",
      "_________________________________________________________________\n",
      "pool4 (TimeDistributed)      (None, None, 6, 4, 512)   0         \n",
      "_________________________________________________________________\n",
      "flatten (TimeDistributed)    (None, None, 12288)       0         \n",
      "_________________________________________________________________\n",
      "fc1_1 (TimeDistributed)      (None, None, 4096)        50335744  \n",
      "_________________________________________________________________\n",
      "fc1_2 (TimeDistributed)      (None, None, 4096)        16781312  \n",
      "_________________________________________________________________\n",
      "fc2 (TimeDistributed)        (None, None, 128)         524416    \n",
      "_________________________________________________________________\n",
      "cu_dnnlstm_1 (CuDNNLSTM)     (None, 127)               130556    \n",
      "_________________________________________________________________\n",
      "out (Dense)                  (None, 8)                 1024      \n",
      "=================================================================\n",
      "Total params: 72,272,764\n",
      "Trainable params: 72,272,764\n",
      "Non-trainable params: 0\n",
      "_________________________________________________________________\n"
     ]
    }
   ],
   "source": [
    "from keras.layers import CuDNNLSTM\n",
    "from tensorflow import Tensor\n",
    "\n",
    "x = CuDNNLSTM(127)(model.layers[-1].output)\n",
    "x = Dense(8, activation='softmax', name='out')(x)\n",
    "\n",
    "final_model = Model(inputs=model.input, outputs=[x])\n",
    "final_model.summary()"
   ]
  },
  {
   "cell_type": "markdown",
   "metadata": {},
   "source": [
    "## Train Model\n",
    "\n",
    "Putting it all together\n",
    "\n",
    "### Compile model\n",
    "\n",
    "First we need to compile the model, for which we'll use the same parameters (for now) as used originally:\n",
    "* Adam optimizer\n",
    "* LR of 1e-4\n",
    "* Adam Epsilon of 1e-8"
   ]
  },
  {
   "cell_type": "code",
   "execution_count": 24,
   "metadata": {},
   "outputs": [],
   "source": [
    "from keras.optimizers import Adam\n",
    "from keras.metrics import categorical_accuracy\n",
    "\n",
    "model = final_model\n",
    "optimizer = Adam(lr=vggish_params.LEARNING_RATE, epsilon=vggish_params.ADAM_EPSILON)\n",
    "metrics = [categorical_accuracy]\n",
    "model.compile(optimizer=optimizer, loss='categorical_crossentropy', metrics=metrics)"
   ]
  },
  {
   "cell_type": "markdown",
   "metadata": {},
   "source": [
    "Since we're dealing with var-length data, we can't just call `fit`, but instead need to train on each batch manually."
   ]
  },
  {
   "cell_type": "code",
   "execution_count": 58,
   "metadata": {},
   "outputs": [],
   "source": [
    "def train_epoch(model, x_train, y_train):\n",
    "    train_loss = 0.0\n",
    "    train_batches = 0.0\n",
    "    train_accuracy = 0.0\n",
    "    \n",
    "    for x, y in get_shuffled_batches(x_train, y_train):\n",
    "        loss, acc = model.train_on_batch(x, y, class_weight=class_weights)\n",
    "\n",
    "        train_loss += loss\n",
    "        train_accuracy += acc\n",
    "        train_batches += 1\n",
    "    return train_loss / train_batches, train_accuracy / train_batches"
   ]
  },
  {
   "cell_type": "code",
   "execution_count": 81,
   "metadata": {},
   "outputs": [],
   "source": [
    "def validate_epoch(model, x_val, y_val, class_weights):\n",
    "    val_loss = 0.0\n",
    "    val_batches = 0.0\n",
    "    val_accuracy = 0.0\n",
    "\n",
    "    for x, y in get_shuffled_batches(x_val, y_val):\n",
    "        sample_weights = sample_weights_from_class_weights(class_weights, y)\n",
    "        loss, acc = model.evaluate(x, y, batch_size=1, sample_weight=sample_weights, verbose=0)\n",
    "        val_loss += loss\n",
    "        val_accuracy += acc\n",
    "        val_batches += 1\n",
    "    return val_loss / val_batches, val_accuracy / val_batches"
   ]
  },
  {
   "cell_type": "code",
   "execution_count": 83,
   "metadata": {},
   "outputs": [],
   "source": [
    "def plot_losses(epoch, train_loss, train_acc, val_loss, val_acc):\n",
    "        fig = plt.figure()\n",
    "\n",
    "        ax1 = fig.add_subplot(211)\n",
    "        ax2 = ax1.twinx()\n",
    "        ax3 = fig.add_subplot(212)\n",
    "\n",
    "        fig.canvas.draw()\n",
    "        \n",
    "        epochs = list(range(epoch + 1))\n",
    "        \n",
    "        ax1.set_xlabel(\"Epoch\")\n",
    "        ax1.set_ylabel(\"Train Loss\")\n",
    "        ax2.set_ylabel(\"Val Loss\")\n",
    "        ax1.plot(epochs, train_loss)\n",
    "        ax2.plot(epochs, val_loss)\n",
    "\n",
    "        ax3.set_xlabel(\"Epoch\")\n",
    "        ax3.set_ylabel(\"Accuracy\")\n",
    "        ax3.plot(epochs, train_acc)\n",
    "        ax3.plot(epochs, val_acc)\n",
    "        ax3.legend()\n",
    "\n",
    "        fig.tight_layout()\n",
    "        fig.canvas.draw()\n",
    "        \n",
    "        display.display(fig)\n",
    "        display.clear_output(wait=True)\n"
   ]
  },
  {
   "cell_type": "code",
   "execution_count": 82,
   "metadata": {
    "scrolled": false
   },
   "outputs": [
    {
     "name": "stderr",
     "output_type": "stream",
     "text": [
      "No handles with labels found to put in legend.\n"
     ]
    },
    {
     "ename": "AttributeError",
     "evalue": "'Figure' object has no attribute 'gcf'",
     "output_type": "error",
     "traceback": [
      "\u001b[1;31m---------------------------------------------------------------------------\u001b[0m",
      "\u001b[1;31mAttributeError\u001b[0m                            Traceback (most recent call last)",
      "\u001b[1;32m<ipython-input-82-02c9bddc59a6>\u001b[0m in \u001b[0;36m<module>\u001b[1;34m\u001b[0m\n\u001b[0;32m     24\u001b[0m     \u001b[0mval_accs\u001b[0m\u001b[1;33m.\u001b[0m\u001b[0mappend\u001b[0m\u001b[1;33m(\u001b[0m\u001b[0mval_acc\u001b[0m\u001b[1;33m)\u001b[0m\u001b[1;33m\u001b[0m\u001b[1;33m\u001b[0m\u001b[0m\n\u001b[0;32m     25\u001b[0m \u001b[1;33m\u001b[0m\u001b[0m\n\u001b[1;32m---> 26\u001b[1;33m     \u001b[0mplot_losses\u001b[0m\u001b[1;33m(\u001b[0m\u001b[0mepoch\u001b[0m\u001b[1;33m,\u001b[0m \u001b[0mtrain_losses\u001b[0m\u001b[1;33m,\u001b[0m \u001b[0mtrain_accs\u001b[0m\u001b[1;33m,\u001b[0m \u001b[0mval_losses\u001b[0m\u001b[1;33m,\u001b[0m \u001b[0mval_accs\u001b[0m\u001b[1;33m)\u001b[0m\u001b[1;33m\u001b[0m\u001b[1;33m\u001b[0m\u001b[0m\n\u001b[0m\u001b[0;32m     27\u001b[0m \u001b[1;33m\u001b[0m\u001b[0m\n",
      "\u001b[1;32m<ipython-input-80-6a77038c0b73>\u001b[0m in \u001b[0;36mplot_losses\u001b[1;34m(epoch, train_loss, train_acc, val_loss, val_acc)\u001b[0m\n\u001b[0;32m     25\u001b[0m         \u001b[0mfig\u001b[0m\u001b[1;33m.\u001b[0m\u001b[0mcanvas\u001b[0m\u001b[1;33m.\u001b[0m\u001b[0mdraw\u001b[0m\u001b[1;33m(\u001b[0m\u001b[1;33m)\u001b[0m\u001b[1;33m\u001b[0m\u001b[1;33m\u001b[0m\u001b[0m\n\u001b[0;32m     26\u001b[0m \u001b[1;33m\u001b[0m\u001b[0m\n\u001b[1;32m---> 27\u001b[1;33m         \u001b[0mdisplay\u001b[0m\u001b[1;33m.\u001b[0m\u001b[0mdisplay\u001b[0m\u001b[1;33m(\u001b[0m\u001b[0mfig\u001b[0m\u001b[1;33m.\u001b[0m\u001b[0mgcf\u001b[0m\u001b[1;33m(\u001b[0m\u001b[1;33m)\u001b[0m\u001b[1;33m)\u001b[0m\u001b[1;33m\u001b[0m\u001b[1;33m\u001b[0m\u001b[0m\n\u001b[0m\u001b[0;32m     28\u001b[0m         \u001b[0mdisplay\u001b[0m\u001b[1;33m.\u001b[0m\u001b[0mclear_output\u001b[0m\u001b[1;33m(\u001b[0m\u001b[0mwait\u001b[0m\u001b[1;33m=\u001b[0m\u001b[1;32mTrue\u001b[0m\u001b[1;33m)\u001b[0m\u001b[1;33m\u001b[0m\u001b[1;33m\u001b[0m\u001b[0m\n",
      "\u001b[1;31mAttributeError\u001b[0m: 'Figure' object has no attribute 'gcf'"
     ]
    },
    {
     "data": {
      "image/png": "[encoded data removed]",
      "text/plain": [
       "<Figure size 432x288 with 3 Axes>"
      ]
     },
     "metadata": {
      "needs_background": "light"
     },
     "output_type": "display_data"
    }
   ],
   "source": [
    "import matplotlib.pylab as plt\n",
    "import pandas as pd\n",
    "import numpy as np\n",
    "import time\n",
    "from IPython import display\n",
    "%matplotlib inline\n",
    "\n",
    "NUM_EPOCHS = 1\n",
    "\n",
    "for epoch in range(NUM_EPOCHS):\n",
    "    train_losses = []\n",
    "    train_accs = []\n",
    "    val_losses = []\n",
    "    val_accs = []\n",
    "    \n",
    "    train_loss, train_acc = train_epoch(model, x_train, y_train)\n",
    "\n",
    "    train_losses.append(train_loss)\n",
    "    train_accs.append(train_acc)\n",
    "\n",
    "    val_loss, val_acc = validate_epoch(model, x_train, y_train, class_weights)\n",
    "\n",
    "    val_losses.append(val_loss)\n",
    "    val_accs.append(val_acc)\n",
    "    \n",
    "    plot_losses(epoch, train_losses, train_accs, val_losses, val_accs)\n",
    "    "
   ]
  },
  {
   "cell_type": "code",
   "execution_count": 117,
   "metadata": {},
   "outputs": [],
   "source": [
    "predictions = []\n",
    "true_labels = []\n",
    "sample_weights = []\n",
    "for x, y in get_shuffled_batches(x_test, y_test):\n",
    "    prediction = model.predict_on_batch(x)\n",
    "    predictions.append(prediction)\n",
    "    true_labels.append(y)\n",
    "    sample_weights.append(sample_weights_from_class_weights(class_weights, y))"
   ]
  },
  {
   "cell_type": "code",
   "execution_count": 118,
   "metadata": {},
   "outputs": [],
   "source": [
    "predictions = np.array(predictions)\n",
    "true_labels = np.array(true_labels)\n",
    "sample_weights = np.array(sample_weights)"
   ]
  },
  {
   "cell_type": "code",
   "execution_count": 119,
   "metadata": {},
   "outputs": [],
   "source": [
    "predictions = np.argmax(predictions, axis=2)\n",
    "true_labels = np.argmax(true_labels, axis=2)"
   ]
  },
  {
   "cell_type": "code",
   "execution_count": 120,
   "metadata": {},
   "outputs": [],
   "source": [
    "predictions = np.reshape(predictions, predictions.shape[0])\n",
    "true_labels = np.reshape(true_labels, true_labels.shape[0])\n",
    "sample_weights = np.reshape(sample_weights, sample_weights.shape[0])"
   ]
  },
  {
   "cell_type": "code",
   "execution_count": 122,
   "metadata": {},
   "outputs": [],
   "source": [
    "from sklearn.metrics import precision_score, recall_score, f1_score, accuracy_score, confusion_matrix\n",
    "\n",
    "metrics = dict(\n",
    "    precision = precision_score(true_labels, predictions, average=None),\n",
    "    recall = recall_score(true_labels, predictions, average=None),\n",
    "    f1 = f1_score(true_labels, predictions, average=None),\n",
    "    accuracy_raw = accuracy_score(true_labels, predictions),\n",
    "    accuracy_weighted = accuracy_score(true_labels, predictions, sample_weight=sample_weights),\n",
    "    confusion = confusion_matrix(true_labels, predictions)\n",
    ")"
   ]
  },
  {
   "cell_type": "code",
   "execution_count": 123,
   "metadata": {},
   "outputs": [
    {
     "data": {
      "text/plain": [
       "{'precision': array([0.61538462, 0.81481481, 0.92307692, 0.6       , 0.86206897,\n",
       "        0.72      , 0.82352941, 0.90625   ]),\n",
       " 'recall': array([0.72727273, 0.91666667, 0.75      , 0.69230769, 0.96153846,\n",
       "        0.72      , 0.75675676, 0.82857143]),\n",
       " 'f1': array([0.66666667, 0.8627451 , 0.82758621, 0.64285714, 0.90909091,\n",
       "        0.72      , 0.78873239, 0.86567164]),\n",
       " 'accuracy_raw': 0.7962962962962963,\n",
       " 'accuracy_weighted': 0.7929515418502202,\n",
       " 'confusion': array([[ 8,  1,  0,  1,  0,  0,  1,  0],\n",
       "        [ 2, 22,  0,  0,  0,  0,  0,  0],\n",
       "        [ 1,  0, 24,  2,  0,  2,  1,  2],\n",
       "        [ 1,  4,  0, 18,  0,  3,  0,  0],\n",
       "        [ 0,  0,  0,  0, 25,  0,  0,  1],\n",
       "        [ 0,  0,  1,  4,  1, 18,  1,  0],\n",
       "        [ 1,  0,  0,  5,  2,  1, 28,  0],\n",
       "        [ 0,  0,  1,  0,  1,  1,  3, 29]], dtype=int64)}"
      ]
     },
     "execution_count": 123,
     "metadata": {},
     "output_type": "execute_result"
    }
   ],
   "source": [
    "metrics"
   ]
  },
  {
   "cell_type": "code",
   "execution_count": 126,
   "metadata": {},
   "outputs": [],
   "source": [
    "import itertools\n",
    "\n",
    "def plot_confusion_matrix(cm,\n",
    "                          classes,\n",
    "                          normalize=False,\n",
    "                          title='Confusion matrix',\n",
    "                          cmap=plt.cm.Blues,\n",
    "                          block=False):\n",
    "    if normalize:\n",
    "        cm = cm.astype('float') / cm.sum(axis=1)[:, np.newaxis]\n",
    "\n",
    "    plt.imshow(cm, interpolation='nearest', cmap=cmap)\n",
    "    plt.title(title)\n",
    "    plt.colorbar()\n",
    "    tick_marks = np.arange(len(classes))\n",
    "    plt.xticks(tick_marks, classes, rotation=45)\n",
    "    plt.yticks(tick_marks, classes)\n",
    "\n",
    "    fmt = '.2f' if normalize else 'd'\n",
    "    thresh = np.average(cm)\n",
    "    for i, j in itertools.product(range(cm.shape[0]), range(cm.shape[1])):\n",
    "        plt.text(j, i, format(cm[i, j], fmt),\n",
    "                 horizontalalignment=\"center\",\n",
    "                 color=\"white\" if cm[i, j] > thresh else \"black\")\n",
    "\n",
    "    plt.tight_layout()\n",
    "    plt.ylabel('True label')\n",
    "    plt.xlabel('Predicted label')\n",
    "    if block:\n",
    "        plt.show()"
   ]
  },
  {
   "cell_type": "code",
   "execution_count": 128,
   "metadata": {},
   "outputs": [
    {
     "data": {
      "image/png": "[encoded data removed]",
      "text/plain": [
       "<Figure size 432x288 with 2 Axes>"
      ]
     },
     "metadata": {
      "needs_background": "light"
     },
     "output_type": "display_data"
    }
   ],
   "source": [
    "emotions = [\"neutral\", \"calm\", \"happy\", \"sad\", \"angry\", \"fearful\", \"disgust\", \"surprised\"]\n",
    "\n",
    "plot_confusion_matrix(metrics[\"confusion\"], classes=emotions)"
   ]
  },
  {
   "cell_type": "code",
   "execution_count": 129,
   "metadata": {},
   "outputs": [
    {
     "data": {
      "image/png": "[encoded data removed]",
      "text/plain": [
       "<Figure size 432x288 with 2 Axes>"
      ]
     },
     "metadata": {
      "needs_background": "light"
     },
     "output_type": "display_data"
    }
   ],
   "source": [
    "plot_confusion_matrix(metrics[\"confusion\"], classes=emotions, normalize=True)"
   ]
  },
  {
   "cell_type": "code",
   "execution_count": null,
   "metadata": {},
   "outputs": [],
   "source": []
  }
 ],
 "metadata": {
  "kernelspec": {
   "display_name": "Python 3",
   "language": "python",
   "name": "python3"
  },
  "language_info": {
   "codemirror_mode": {
    "name": "ipython",
    "version": 3
   },
   "file_extension": ".py",
   "mimetype": "text/x-python",
   "name": "python",
   "nbconvert_exporter": "python",
   "pygments_lexer": "ipython3",
   "version": "3.6.7"
  }
 },
 "nbformat": 4,
 "nbformat_minor": 2
}
